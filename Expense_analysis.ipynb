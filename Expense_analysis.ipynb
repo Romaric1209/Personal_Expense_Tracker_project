{
 "cells": [
  {
   "cell_type": "markdown",
   "id": "1a653653-239f-4df7-a2b3-103310974821",
   "metadata": {},
   "source": [
    "## 🧠 **Project Title: Personal Expense Tracker**\n"
   ]
  },
  {
   "cell_type": "markdown",
   "id": "b6374191-0793-49fb-bae3-700845d948b8",
   "metadata": {},
   "source": [
    "### 🎯 **Goal**\n",
    "\n",
    "Build a personal expense tracking system that:\n",
    "\n",
    "* Stores transaction data in a SQL database\n",
    "* Allows querying and analysis of spending habits\n",
    "* Provides visualizations and reports using Python\n",
    "\n",
    "---\n",
    "---\n",
    "\n",
    "### 🧰 **Skills Practiced**\n",
    "\n",
    "* Python: `pandas`, `sqlite3` / `sqlalchemy`, `datetime`, `matplotlib`\n",
    "* SQL: `JOIN`, `GROUP BY`, `ORDER BY`, subqueries, CTEs\n",
    "* Software design: modular scripting, file I/O\n",
    "* Optional: Web dev with Flask/Streamlit"
   ]
  },
  {
   "cell_type": "markdown",
   "id": "cfd9fb78-6148-4f32-9be9-738002c646b4",
   "metadata": {},
   "source": [
    "### ✅ **Objectives**\n",
    "\n",
    "#### 1. **Database Design (SQL)**\n",
    "\n",
    "* Create a PostgreSQL (or SQLite for simplicity) database with the following tables:\n",
    "\n",
    "  * `users` (user\\_id, name, email)\n",
    "  * `categories` (category\\_id, name)\n",
    "  * `expenses` (expense\\_id, user\\_id, amount, date, category\\_id, description)\n",
    "* Practice using foreign keys and data normalization.\n",
    "\n",
    "#### 2. **Data Ingestion (Python + SQL)**\n",
    "\n",
    "* Create a Python script or CLI tool to:\n",
    "\n",
    "  * Input new expenses (manual or from a CSV/Excel file)\n",
    "  * Validate inputs and insert into the database\n"
   ]
  },
  {
   "cell_type": "markdown",
   "id": "ee1a5a3e-4753-4ccb-9882-a959def2b1c8",
   "metadata": {},
   "source": [
    "#### 3. **SQL Queries for Analysis**\n",
    "\n",
    "* Write SQL queries to answer:\n",
    "\n",
    "  * Total spent this month?\n",
    "  * Top 3 categories this year?\n",
    "  * Average monthly expenses?\n",
    "  * How does this month compare to last month?\n",
    "* Use Python to execute these queries and display results.\n",
    "\n",
    "#### 4. **Data Visualization (Python)**\n",
    "\n",
    "* Use `matplotlib`, `seaborn`, or `plotly` to:\n",
    "\n",
    "  * Plot expenses by category\n",
    "  * Monthly spending trends\n",
    "  * Pie chart of category breakdown\n",
    "\n",
    "#### 5. **(Bonus) Web Interface**\n",
    "\n",
    "* Optional: Build a simple Streamlit app or Flask dashboard to:\n",
    "\n",
    "  * Input new transactions\n",
    "  * View charts and analytics\n",
    "  * Export reports as CSV\n"
   ]
  },
  {
   "cell_type": "code",
   "execution_count": 2,
   "id": "45cf963d-b1de-48fa-b8ff-57e8f0832b32",
   "metadata": {},
   "outputs": [],
   "source": [
    "import sqlite3\n",
    "import pandas as pd\n",
    "import matplotlib.pyplot as plt"
   ]
  },
  {
   "cell_type": "code",
   "execution_count": 5,
   "id": "2a9289c8-3a67-49e5-930d-80a0f790075d",
   "metadata": {},
   "outputs": [],
   "source": [
    "conn = sqlite3.connect(\"Personal_Expenses_project.db\")"
   ]
  },
  {
   "cell_type": "code",
   "execution_count": 7,
   "id": "408ecbd7-f30c-408a-a253-f687345f149b",
   "metadata": {},
   "outputs": [],
   "source": [
    "# Total spent this month?\n",
    "spent_this_month_df = ''' \n",
    "    SELECT SUM(amount) AS money_spent\n",
    "    FROM expenses\n",
    "    WHERE strftime('%Y-%m', date) == strftime('%Y-%m', 'now);''' \n"
   ]
  },
  {
   "cell_type": "code",
   "execution_count": 8,
   "id": "09e382fa-1815-4d38-849c-d9bbef77e437",
   "metadata": {},
   "outputs": [
    {
     "ename": "DatabaseError",
     "evalue": "Execution failed on sql '\n    SELECT \n    c.name,\n    COUNT(e.category_id) AS cat_count\n    FROM categories c\n    LEFT JOIN expenses e ON c.category_id = e.category_id\n    WHERE strftime('%Y', date) = strftime('%Y', 'now')\n    GROUP BY c.category\n    ORDER BY cat_count DESC\n    LIMIT 3;\n    ': no such table: categories",
     "output_type": "error",
     "traceback": [
      "\u001b[0;31m---------------------------------------------------------------------------\u001b[0m",
      "\u001b[0;31mOperationalError\u001b[0m                          Traceback (most recent call last)",
      "File \u001b[0;32m~/.pyenv/versions/DailyDose/lib/python3.10/site-packages/pandas/io/sql.py:2664\u001b[0m, in \u001b[0;36mSQLiteDatabase.execute\u001b[0;34m(self, sql, params)\u001b[0m\n\u001b[1;32m   2663\u001b[0m \u001b[38;5;28;01mtry\u001b[39;00m:\n\u001b[0;32m-> 2664\u001b[0m     \u001b[43mcur\u001b[49m\u001b[38;5;241;43m.\u001b[39;49m\u001b[43mexecute\u001b[49m\u001b[43m(\u001b[49m\u001b[43msql\u001b[49m\u001b[43m,\u001b[49m\u001b[43m \u001b[49m\u001b[38;5;241;43m*\u001b[39;49m\u001b[43margs\u001b[49m\u001b[43m)\u001b[49m\n\u001b[1;32m   2665\u001b[0m     \u001b[38;5;28;01mreturn\u001b[39;00m cur\n",
      "\u001b[0;31mOperationalError\u001b[0m: no such table: categories",
      "\nThe above exception was the direct cause of the following exception:\n",
      "\u001b[0;31mDatabaseError\u001b[0m                             Traceback (most recent call last)",
      "Cell \u001b[0;32mIn[8], line 14\u001b[0m\n\u001b[1;32m      1\u001b[0m \u001b[38;5;66;03m# Top 3 categories this year?\u001b[39;00m\n\u001b[1;32m      2\u001b[0m top_cat \u001b[38;5;241m=\u001b[39m \u001b[38;5;124m'''\u001b[39m\n\u001b[1;32m      3\u001b[0m \u001b[38;5;124m    SELECT \u001b[39m\n\u001b[1;32m      4\u001b[0m \u001b[38;5;124m    c.name,\u001b[39m\n\u001b[0;32m   (...)\u001b[0m\n\u001b[1;32m     11\u001b[0m \u001b[38;5;124m    LIMIT 3;\u001b[39m\n\u001b[1;32m     12\u001b[0m \u001b[38;5;124m    \u001b[39m\u001b[38;5;124m'''\u001b[39m\n\u001b[0;32m---> 14\u001b[0m top_cat_df \u001b[38;5;241m=\u001b[39m \u001b[43mpd\u001b[49m\u001b[38;5;241;43m.\u001b[39;49m\u001b[43mread_sql_query\u001b[49m\u001b[43m(\u001b[49m\u001b[43mtop_cat\u001b[49m\u001b[43m,\u001b[49m\u001b[43mconn\u001b[49m\u001b[43m)\u001b[49m\n\u001b[1;32m     15\u001b[0m \u001b[38;5;28mprint\u001b[39m(top_cat_df)\n",
      "File \u001b[0;32m~/.pyenv/versions/DailyDose/lib/python3.10/site-packages/pandas/io/sql.py:528\u001b[0m, in \u001b[0;36mread_sql_query\u001b[0;34m(sql, con, index_col, coerce_float, params, parse_dates, chunksize, dtype, dtype_backend)\u001b[0m\n\u001b[1;32m    525\u001b[0m \u001b[38;5;28;01massert\u001b[39;00m dtype_backend \u001b[38;5;129;01mis\u001b[39;00m \u001b[38;5;129;01mnot\u001b[39;00m lib\u001b[38;5;241m.\u001b[39mno_default\n\u001b[1;32m    527\u001b[0m \u001b[38;5;28;01mwith\u001b[39;00m pandasSQL_builder(con) \u001b[38;5;28;01mas\u001b[39;00m pandas_sql:\n\u001b[0;32m--> 528\u001b[0m     \u001b[38;5;28;01mreturn\u001b[39;00m \u001b[43mpandas_sql\u001b[49m\u001b[38;5;241;43m.\u001b[39;49m\u001b[43mread_query\u001b[49m\u001b[43m(\u001b[49m\n\u001b[1;32m    529\u001b[0m \u001b[43m        \u001b[49m\u001b[43msql\u001b[49m\u001b[43m,\u001b[49m\n\u001b[1;32m    530\u001b[0m \u001b[43m        \u001b[49m\u001b[43mindex_col\u001b[49m\u001b[38;5;241;43m=\u001b[39;49m\u001b[43mindex_col\u001b[49m\u001b[43m,\u001b[49m\n\u001b[1;32m    531\u001b[0m \u001b[43m        \u001b[49m\u001b[43mparams\u001b[49m\u001b[38;5;241;43m=\u001b[39;49m\u001b[43mparams\u001b[49m\u001b[43m,\u001b[49m\n\u001b[1;32m    532\u001b[0m \u001b[43m        \u001b[49m\u001b[43mcoerce_float\u001b[49m\u001b[38;5;241;43m=\u001b[39;49m\u001b[43mcoerce_float\u001b[49m\u001b[43m,\u001b[49m\n\u001b[1;32m    533\u001b[0m \u001b[43m        \u001b[49m\u001b[43mparse_dates\u001b[49m\u001b[38;5;241;43m=\u001b[39;49m\u001b[43mparse_dates\u001b[49m\u001b[43m,\u001b[49m\n\u001b[1;32m    534\u001b[0m \u001b[43m        \u001b[49m\u001b[43mchunksize\u001b[49m\u001b[38;5;241;43m=\u001b[39;49m\u001b[43mchunksize\u001b[49m\u001b[43m,\u001b[49m\n\u001b[1;32m    535\u001b[0m \u001b[43m        \u001b[49m\u001b[43mdtype\u001b[49m\u001b[38;5;241;43m=\u001b[39;49m\u001b[43mdtype\u001b[49m\u001b[43m,\u001b[49m\n\u001b[1;32m    536\u001b[0m \u001b[43m        \u001b[49m\u001b[43mdtype_backend\u001b[49m\u001b[38;5;241;43m=\u001b[39;49m\u001b[43mdtype_backend\u001b[49m\u001b[43m,\u001b[49m\n\u001b[1;32m    537\u001b[0m \u001b[43m    \u001b[49m\u001b[43m)\u001b[49m\n",
      "File \u001b[0;32m~/.pyenv/versions/DailyDose/lib/python3.10/site-packages/pandas/io/sql.py:2728\u001b[0m, in \u001b[0;36mSQLiteDatabase.read_query\u001b[0;34m(self, sql, index_col, coerce_float, parse_dates, params, chunksize, dtype, dtype_backend)\u001b[0m\n\u001b[1;32m   2717\u001b[0m \u001b[38;5;28;01mdef\u001b[39;00m\u001b[38;5;250m \u001b[39m\u001b[38;5;21mread_query\u001b[39m(\n\u001b[1;32m   2718\u001b[0m     \u001b[38;5;28mself\u001b[39m,\n\u001b[1;32m   2719\u001b[0m     sql,\n\u001b[0;32m   (...)\u001b[0m\n\u001b[1;32m   2726\u001b[0m     dtype_backend: DtypeBackend \u001b[38;5;241m|\u001b[39m Literal[\u001b[38;5;124m\"\u001b[39m\u001b[38;5;124mnumpy\u001b[39m\u001b[38;5;124m\"\u001b[39m] \u001b[38;5;241m=\u001b[39m \u001b[38;5;124m\"\u001b[39m\u001b[38;5;124mnumpy\u001b[39m\u001b[38;5;124m\"\u001b[39m,\n\u001b[1;32m   2727\u001b[0m ) \u001b[38;5;241m-\u001b[39m\u001b[38;5;241m>\u001b[39m DataFrame \u001b[38;5;241m|\u001b[39m Iterator[DataFrame]:\n\u001b[0;32m-> 2728\u001b[0m     cursor \u001b[38;5;241m=\u001b[39m \u001b[38;5;28;43mself\u001b[39;49m\u001b[38;5;241;43m.\u001b[39;49m\u001b[43mexecute\u001b[49m\u001b[43m(\u001b[49m\u001b[43msql\u001b[49m\u001b[43m,\u001b[49m\u001b[43m \u001b[49m\u001b[43mparams\u001b[49m\u001b[43m)\u001b[49m\n\u001b[1;32m   2729\u001b[0m     columns \u001b[38;5;241m=\u001b[39m [col_desc[\u001b[38;5;241m0\u001b[39m] \u001b[38;5;28;01mfor\u001b[39;00m col_desc \u001b[38;5;129;01min\u001b[39;00m cursor\u001b[38;5;241m.\u001b[39mdescription]\n\u001b[1;32m   2731\u001b[0m     \u001b[38;5;28;01mif\u001b[39;00m chunksize \u001b[38;5;129;01mis\u001b[39;00m \u001b[38;5;129;01mnot\u001b[39;00m \u001b[38;5;28;01mNone\u001b[39;00m:\n",
      "File \u001b[0;32m~/.pyenv/versions/DailyDose/lib/python3.10/site-packages/pandas/io/sql.py:2676\u001b[0m, in \u001b[0;36mSQLiteDatabase.execute\u001b[0;34m(self, sql, params)\u001b[0m\n\u001b[1;32m   2673\u001b[0m     \u001b[38;5;28;01mraise\u001b[39;00m ex \u001b[38;5;28;01mfrom\u001b[39;00m\u001b[38;5;250m \u001b[39m\u001b[38;5;21;01minner_exc\u001b[39;00m\n\u001b[1;32m   2675\u001b[0m ex \u001b[38;5;241m=\u001b[39m DatabaseError(\u001b[38;5;124mf\u001b[39m\u001b[38;5;124m\"\u001b[39m\u001b[38;5;124mExecution failed on sql \u001b[39m\u001b[38;5;124m'\u001b[39m\u001b[38;5;132;01m{\u001b[39;00msql\u001b[38;5;132;01m}\u001b[39;00m\u001b[38;5;124m'\u001b[39m\u001b[38;5;124m: \u001b[39m\u001b[38;5;132;01m{\u001b[39;00mexc\u001b[38;5;132;01m}\u001b[39;00m\u001b[38;5;124m\"\u001b[39m)\n\u001b[0;32m-> 2676\u001b[0m \u001b[38;5;28;01mraise\u001b[39;00m ex \u001b[38;5;28;01mfrom\u001b[39;00m\u001b[38;5;250m \u001b[39m\u001b[38;5;21;01mexc\u001b[39;00m\n",
      "\u001b[0;31mDatabaseError\u001b[0m: Execution failed on sql '\n    SELECT \n    c.name,\n    COUNT(e.category_id) AS cat_count\n    FROM categories c\n    LEFT JOIN expenses e ON c.category_id = e.category_id\n    WHERE strftime('%Y', date) = strftime('%Y', 'now')\n    GROUP BY c.category\n    ORDER BY cat_count DESC\n    LIMIT 3;\n    ': no such table: categories"
     ]
    }
   ],
   "source": [
    "# Top 3 categories this year?\n",
    "top_cat = '''\n",
    "    SELECT \n",
    "    c.name,\n",
    "    COUNT(e.category_id) AS cat_count\n",
    "    FROM categories c\n",
    "    LEFT JOIN expenses e ON c.category_id = e.category_id\n",
    "    WHERE strftime('%Y', date) = strftime('%Y', 'now')\n",
    "    GROUP BY c.category\n",
    "    ORDER BY cat_count DESC\n",
    "    LIMIT 3;\n",
    "    '''\n",
    "\n",
    "top_cat_df = pd.read_sql_query(top_cat,conn)\n",
    "print(top_cat_df)"
   ]
  },
  {
   "cell_type": "code",
   "execution_count": null,
   "id": "92690ce7-f705-4bee-b159-04ba5260d0bd",
   "metadata": {},
   "outputs": [],
   "source": [
    "# Average monthly expenses?"
   ]
  }
 ],
 "metadata": {
  "kernelspec": {
   "display_name": "Python 3 (ipykernel)",
   "language": "python",
   "name": "python3"
  },
  "language_info": {
   "codemirror_mode": {
    "name": "ipython",
    "version": 3
   },
   "file_extension": ".py",
   "mimetype": "text/x-python",
   "name": "python",
   "nbconvert_exporter": "python",
   "pygments_lexer": "ipython3",
   "version": "3.10.6"
  }
 },
 "nbformat": 4,
 "nbformat_minor": 5
}
